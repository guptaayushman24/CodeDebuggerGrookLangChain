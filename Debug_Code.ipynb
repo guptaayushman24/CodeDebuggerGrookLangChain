{
 "cells": [
  {
   "cell_type": "code",
   "execution_count": 1,
   "id": "5995e14e",
   "metadata": {},
   "outputs": [
    {
     "data": {
      "text/plain": [
       "True"
      ]
     },
     "execution_count": 1,
     "metadata": {},
     "output_type": "execute_result"
    }
   ],
   "source": [
    "import os\n",
    "from dotenv import load_dotenv\n",
    "load_dotenv()"
   ]
  },
  {
   "cell_type": "code",
   "execution_count": 2,
   "id": "44d2ee2d",
   "metadata": {},
   "outputs": [],
   "source": [
    "groq_api_key = os.getenv(\"GROQ_API_KEY\")"
   ]
  },
  {
   "cell_type": "code",
   "execution_count": 3,
   "id": "69debe5d",
   "metadata": {},
   "outputs": [],
   "source": [
    "from langchain_groq import ChatGroq\n",
    "model = ChatGroq(model=\"llama-3.1-8b-instant\",groq_api_key=groq_api_key)"
   ]
  },
  {
   "cell_type": "code",
   "execution_count": 28,
   "id": "b6a3e878",
   "metadata": {},
   "outputs": [],
   "source": [
    "## Creating Prompt\n",
    "from langchain_core.prompts import ChatPromptTemplate\n",
    "\n",
    "generic_template = \"\"\"\n",
    "You are a {language} syntax checker.\n",
    "Check the following code for **syntax errors** and potential **runtime errors**.\n",
    "Suggest corrections only for errors found.\n",
    "Explain each error clearly, then provide the corrected code in a fenced code block.\n",
    "Use the following format:\n",
    "\n",
    "Errors:  \n",
    "1. <Error explanation>\n",
    "\n",
    "Corrected Code:\n",
    "```{language}\n",
    "<corrected code>\n",
    "\"\"\""
   ]
  },
  {
   "cell_type": "code",
   "execution_count": 30,
   "id": "50e5de50",
   "metadata": {},
   "outputs": [],
   "source": [
    "prompt = ChatPromptTemplate.from_messages([\n",
    "(\"system\", generic_template),\n",
    "(\"user\", \"{text}\")\n",
    "])"
   ]
  },
  {
   "cell_type": "code",
   "execution_count": 32,
   "id": "917a9d00",
   "metadata": {},
   "outputs": [],
   "source": [
    "## Creating parser\n",
    "from langchain_core.output_parsers import StrOutputParser\n",
    "parser=StrOutputParser()"
   ]
  },
  {
   "cell_type": "code",
   "execution_count": 33,
   "id": "66bb73ef",
   "metadata": {},
   "outputs": [],
   "source": [
    "# Chaining together components with LCEL\n",
    "chain = prompt|model|parser\n",
    "code = \"\"\"for i in range (0,5) \n",
    "    print(i)\n",
    "    \n",
    "\"\"\"\n",
    "result = chain.invoke({\"language\":\"Python\",\"text\":code})"
   ]
  },
  {
   "cell_type": "code",
   "execution_count": 34,
   "id": "e42502fb",
   "metadata": {},
   "outputs": [
    {
     "name": "stdout",
     "output_type": "stream",
     "text": [
      "Errors:  \n",
      "1. Missing colon at the end of the `for` loop statement. In Python, a `for` loop statement should end with a colon (:). This will cause a `SyntaxError`.\n",
      "2. Indentation issue on the `print(i)` line. In Python, indentation is used to denote block-level structure. The `print(i)` line should be indented under the `for` loop statement, but it's not. This will cause a `SyntaxError`.\n",
      "3. Missing parentheses around the argument list in the `range()` function call. Although Python 3.x allows for implicit parentheses, it's generally good practice to include them for clarity. However, in this case, it will not cause any syntax errors.\n",
      "\n",
      "Corrected Code:\n",
      "```python\n",
      "for i in range(0, 5):\n",
      "    print(i)\n",
      "```\n",
      "\n",
      "However, note that the code will not achieve its intended goal. The `range()` function generates numbers up to but not including the stop value. Therefore, the loop will run 5 times, printing numbers from 0 to 4. If you want to print numbers from 0 to 5, you can use the `range(6)` function instead. But if that's the case, the code should be:\n",
      "```python\n",
      "for i in range(6):\n",
      "    print(i)\n",
      "```\n"
     ]
    }
   ],
   "source": [
    "print(result)"
   ]
  },
  {
   "cell_type": "code",
   "execution_count": 46,
   "id": "b14e3c33",
   "metadata": {},
   "outputs": [],
   "source": [
    "java_code = \"\"\"\n",
    "    import java.util.*;\n",
    "public class Main\n",
    "{\n",
    "\tpublic static void main(String[] args) {\n",
    "\t\tint n = 5;\n",
    "\t\tint sum = 5+\"10\";\n",
    "\t\t\n",
    "\t\tSystem.out.println(sum);\n",
    "\t\t\n",
    "\t\t\n",
    "\t\t\n",
    "\t}\n",
    "}\n",
    "\"\"\"\n",
    "result_java = chain.invoke({\"language\":\"Java\",\"text\":{\"text\":java_code}})"
   ]
  },
  {
   "cell_type": "code",
   "execution_count": 47,
   "id": "0bb50265",
   "metadata": {},
   "outputs": [
    {
     "name": "stdout",
     "output_type": "stream",
     "text": [
      "The given code is in Java, but it seems to be a string in JSON format. We will consider it as a Java code snippet and try to parse it.\n",
      "\n",
      "**Syntax Errors:**\n",
      "\n",
      "1. The Java class name should be in camel case, so it should start with a capital letter. In this case, it's `Main` which is correct, but if it starts with a lowercase letter like `main`, it will cause an error.\n",
      "\n",
      "2. The Java class name is missing a semicolon at the end of the class declaration. In Java, class declaration should end with a semicolon.\n",
      "\n",
      "3. The Java class name is missing the class keyword in the declaration. In Java, class declaration should start with the `public` access modifier, then class keyword, and finally the class name.\n",
      "\n",
      "4. There are multiple blank lines in the code which is not a syntax error but can be improved for better code readability.\n",
      "\n",
      "5. The line `int sum = 5+\"10\";` is not a valid Java statement because it's trying to concatenate an integer with a string. The result will be a string, not an integer.\n",
      "\n",
      "**Runtime Errors:**\n",
      "\n",
      "1. The line `int sum = 5+\"10\";` will cause a runtime error because it's trying to assign a string value to an integer variable. This is a type mismatch error.\n",
      "\n",
      "**Corrected Code:**\n",
      "\n",
      "```java\n",
      "import java.util.*;\n",
      "\n",
      "public class Main {\n",
      "    public static void main(String[] args) {\n",
      "        int n = 5;\n",
      "        String sum = \"5\" + \"10\"; // This will result in a string \"51\"\n",
      "        int sumInt = 5 + 10; // This will result in an integer 15\n",
      "\n",
      "        System.out.println(sum);\n",
      "        System.out.println(sumInt);\n",
      "    }\n",
      "}\n",
      "```\n",
      "\n",
      "**Explanation:**\n",
      "\n",
      "*   I corrected the format of the class declaration by adding the class keyword, a semicolon at the end, and ensuring the class name starts with a capital letter.\n",
      "*   I added the correct import statement for the `System.out.println()` method.\n",
      "*   I changed the line `int sum = 5+\"10\";` to `String sum = \"5\" + \"10\";` to correctly assign a string value to a string variable.\n",
      "*   I added another line `int sumInt = 5 + 10;` to correctly calculate the sum of two integers and store it in an integer variable.\n",
      "*   I added `System.out.println(sumInt);` to print the integer sum.\n"
     ]
    }
   ],
   "source": [
    "print(result_java)"
   ]
  },
  {
   "cell_type": "markdown",
   "id": "70502706",
   "metadata": {},
   "source": [
    "# Vector stores and retrievers\n",
    "Previously, we explored building chatbots with chat message history. Now, we will focus on vector stores and retrievers. These abstractions support data retrieval from vector databases and other sources, facilitating integration with large language model (LLM) workflows. They are essential for applications that fetch data to reason over during model inference."
   ]
  }
 ],
 "metadata": {
  "kernelspec": {
   "display_name": ".venv (3.10.10)",
   "language": "python",
   "name": "python3"
  },
  "language_info": {
   "codemirror_mode": {
    "name": "ipython",
    "version": 3
   },
   "file_extension": ".py",
   "mimetype": "text/x-python",
   "name": "python",
   "nbconvert_exporter": "python",
   "pygments_lexer": "ipython3",
   "version": "3.10.10"
  }
 },
 "nbformat": 4,
 "nbformat_minor": 5
}
